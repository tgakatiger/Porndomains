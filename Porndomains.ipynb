{
 "cells": [
  {
   "cell_type": "code",
   "execution_count": 7,
   "metadata": {
    "collapsed": false
   },
   "outputs": [
    {
     "data": {
      "text/plain": [
       "['tecos.si', '999880', '212.44.99.204', 'Slovenia\\n']"
      ]
     },
     "execution_count": 7,
     "metadata": {},
     "output_type": "execute_result"
    }
   ],
   "source": [
    "# some porn site statistics\n",
    "with open('porndomains', 'r') as f:\n",
    "    domain_list = [i.split(',') for i in f if len(i.split(',')[1]) > 0 and i.split(',')[1].isnumeric()]\n",
    "    \n",
    "    \n",
    "domain_list.sort(key=lambda x: int(x[1]))\n",
    "\n",
    "domain_list[-1]"
   ]
  }
 ],
 "metadata": {
  "kernelspec": {
   "display_name": "Python 3",
   "language": "python",
   "name": "python3"
  },
  "language_info": {
   "codemirror_mode": {
    "name": "ipython",
    "version": 3
   },
   "file_extension": ".py",
   "mimetype": "text/x-python",
   "name": "python",
   "nbconvert_exporter": "python",
   "pygments_lexer": "ipython3",
   "version": "3.5.2"
  }
 },
 "nbformat": 4,
 "nbformat_minor": 1
}
